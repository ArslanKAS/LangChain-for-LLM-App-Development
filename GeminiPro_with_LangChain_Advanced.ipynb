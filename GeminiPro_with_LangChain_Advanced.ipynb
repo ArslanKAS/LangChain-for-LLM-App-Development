{
  "nbformat": 4,
  "nbformat_minor": 0,
  "metadata": {
    "colab": {
      "provenance": []
    },
    "kernelspec": {
      "name": "python3",
      "display_name": "Python 3"
    },
    "language_info": {
      "name": "python"
    }
  },
  "cells": [
    {
      "cell_type": "markdown",
      "source": [
        "# Google Gemini API\n",
        "\n",
        "* 32K context window for text\n",
        "* Free to use right now, within limits\n",
        "* **Features supported:**\n",
        "  * function calling\n",
        "  * embeddings\n",
        "  * semantic retrieval\n",
        "  * custom knowledge grounding\n",
        "  * chat functionality\n",
        "* Supports 38 languages across 180+ countries\n",
        "* **Gemini Pro** accepts text as input and generates text as output.\n",
        "* **Gemini Pro Vision** takes text and image as input and procdues output as text\n",
        "\n",
        "* **Official Notebook:** https://github.com/google/generative-ai-docs/blob/main/site/en/tutorials/python_quickstart.ipynb\n",
        "* **LangChain-Gemini Documentation:** https://python.langchain.com/docs/integrations/chat/google_generative_ai"
      ],
      "metadata": {
        "id": "UfxW9jnsjwgc"
      }
    },
    {
      "cell_type": "markdown",
      "source": [
        "## Pre-requisites"
      ],
      "metadata": {
        "id": "HEPA05RpajhG"
      }
    },
    {
      "cell_type": "code",
      "execution_count": 5,
      "metadata": {
        "id": "tfJiKuQeaZoC",
        "colab": {
          "base_uri": "https://localhost:8080/"
        },
        "outputId": "6694761c-fd8e-4721-9343-25310d2b8bdc"
      },
      "outputs": [
        {
          "output_type": "stream",
          "name": "stdout",
          "text": [
            "\u001b[2K     \u001b[90m━━━━━━━━━━━━━━━━━━━━━━━━━━━━━━━━━━━━━━━━\u001b[0m \u001b[32m794.4/794.4 kB\u001b[0m \u001b[31m9.8 MB/s\u001b[0m eta \u001b[36m0:00:00\u001b[0m\n",
            "\u001b[2K     \u001b[90m━━━━━━━━━━━━━━━━━━━━━━━━━━━━━━━━━━━━━━━━\u001b[0m \u001b[32m1.5/1.5 MB\u001b[0m \u001b[31m57.4 MB/s\u001b[0m eta \u001b[36m0:00:00\u001b[0m\n",
            "\u001b[2K     \u001b[90m━━━━━━━━━━━━━━━━━━━━━━━━━━━━━━━━━━━━━━━━\u001b[0m \u001b[32m49.4/49.4 kB\u001b[0m \u001b[31m6.0 MB/s\u001b[0m eta \u001b[36m0:00:00\u001b[0m\n",
            "\u001b[?25h"
          ]
        }
      ],
      "source": [
        "!pip install -q -U google-generativeai langchain-google-genai langchain"
      ]
    },
    {
      "cell_type": "markdown",
      "source": [
        "## Import Libraries"
      ],
      "metadata": {
        "id": "dWhdr7r7azal"
      }
    },
    {
      "cell_type": "code",
      "source": [
        "import pathlib\n",
        "import textwrap\n",
        "import getpass\n",
        "\n",
        "import google.generativeai as genai\n",
        "from langchain_google_genai import ChatGoogleGenerativeAI\n",
        "\n",
        "# Used to securely store your API key\n",
        "from google.colab import userdata\n",
        "\n",
        "from IPython.display import display\n",
        "from IPython.display import Markdown\n",
        "\n",
        "\n",
        "def to_markdown(text):\n",
        "  text = text.replace('•', '  *')\n",
        "  return Markdown(textwrap.indent(text, '> ', predicate=lambda _: True))"
      ],
      "metadata": {
        "id": "i-fj-ScLazlh"
      },
      "execution_count": 6,
      "outputs": []
    },
    {
      "cell_type": "markdown",
      "source": [
        "### Gemini-Pro API\n",
        "\n",
        "Before you can use the Gemini API, you must first obtain an API key. If you don't already have one, create a key with one click in Google AI Studio.\n",
        "\n",
        "<a class=\"button button-primary\" href=\"https://makersuite.google.com/app/apikey\" target=\"_blank\" rel=\"noopener noreferrer\">Get an API key</a>\n"
      ],
      "metadata": {
        "id": "wftyB7ZnbAee"
      }
    },
    {
      "cell_type": "code",
      "source": [
        "import os\n",
        "\n",
        "if \"GOOGLE_API_KEY\" not in os.environ:\n",
        "    os.environ[\"GOOGLE_API_KEY\"] = getpass.getpass(\"Enter API Key\")\n",
        "\n",
        "genai.configure(api_key=os.environ['GOOGLE_API_KEY'])"
      ],
      "metadata": {
        "id": "Df5BfLDgbEGL"
      },
      "execution_count": 7,
      "outputs": []
    },
    {
      "cell_type": "markdown",
      "source": [
        "### Available Models"
      ],
      "metadata": {
        "id": "14TZA-R0brPf"
      }
    },
    {
      "cell_type": "code",
      "source": [
        "for m in genai.list_models():\n",
        "  if 'generateContent' in m.supported_generation_methods:\n",
        "    print(m.name)"
      ],
      "metadata": {
        "colab": {
          "base_uri": "https://localhost:8080/",
          "height": 52
        },
        "id": "u-DAOzdNblKM",
        "outputId": "3c9cf581-0874-42aa-8071-181ef6bc7a70"
      },
      "execution_count": 8,
      "outputs": [
        {
          "output_type": "stream",
          "name": "stdout",
          "text": [
            "models/gemini-pro\n",
            "models/gemini-pro-vision\n"
          ]
        }
      ]
    },
    {
      "cell_type": "markdown",
      "source": [
        "## Examples:\n",
        "- Text Generation\n",
        "- Prompt Template\n",
        "- Summarization\n",
        "- Objection Handling\n",
        "- Output Parsing:\n",
        "  - JSON using StructuredOutputParser\n",
        "  - JSON using PyDantic"
      ],
      "metadata": {
        "id": "BKtx6PMcb0Lt"
      }
    },
    {
      "cell_type": "markdown",
      "source": [
        "### Text Generation"
      ],
      "metadata": {
        "id": "E6KnMehOHmiv"
      }
    },
    {
      "cell_type": "code",
      "source": [
        "llm = ChatGoogleGenerativeAI(model=\"gemini-pro\")\n",
        "result = llm.invoke(\"Write 10 concise bullet points of a good sales agent in a call center\")\n",
        "to_markdown(result.content)"
      ],
      "metadata": {
        "colab": {
          "base_uri": "https://localhost:8080/",
          "height": 288
        },
        "id": "PzZL6E4IbukN",
        "outputId": "9ddeffcc-4871-4b17-8584-4c4cce2051b5"
      },
      "execution_count": null,
      "outputs": [
        {
          "output_type": "execute_result",
          "data": {
            "text/plain": [
              "<IPython.core.display.Markdown object>"
            ],
            "text/markdown": "> - **Product Knowledge and Expertise**: Demonstrates a deep understanding of company products or services and their functionalities.\n> - **Communication Skills**: Articulate, persuasive, and confident in explaining product benefits accurately and clearly.\n> - **Active Listening**: Attentively listens to customer needs, concerns, and objections, providing tailored solutions accordingly.\n> - **Empathy and Understanding**: Connects with customers on an emotional level, showing genuine care for their needs and building rapport.\n> - **Problem-Solving Ability**: Quickly identifies and resolves customer issues, proactively offering alternative solutions and workarounds.\n> - **Persuasion and Negotiation**: Effectively handles objections and challenges, responds strategically to customer inquiries while promoting products/services' value.\n> - **Upselling and Cross-Selling**: Identifies opportunities to suggest complementary products or services, expanding sales and increasing customer satisfaction.\n> - **Time Management and Organization**: Prioritizes tasks efficiently, optimizes time utilization, and keeps accurate records of customer interactions.\n> - **Continuous Learning and Improvement**: Strives to stay updated with industry trends, new product releases, and best sales practices.\n> - **Positive Attitude and Professionalism**: Maintains a positive and professional demeanor, cultivating a positive customer experience and resolving issues with integrity."
          },
          "metadata": {},
          "execution_count": 7
        }
      ]
    },
    {
      "cell_type": "markdown",
      "source": [
        "### Prompt Template\n",
        "Learn to use LangChain's PromptTemplate with Gemini"
      ],
      "metadata": {
        "id": "DNz7uFfw2EG5"
      }
    },
    {
      "cell_type": "code",
      "source": [
        "# Basic Multi Chain\n",
        "from langchain.prompts import ChatPromptTemplate\n",
        "from langchain.schema.output_parser import StrOutputParser\n",
        "\n",
        "llm = ChatGoogleGenerativeAI(model=\"gemini-pro\", temperature=0.7)\n",
        "\n",
        "prompt = ChatPromptTemplate.from_template(\n",
        "    \"\"\"\n",
        "    Tell me about {topic} in two lines\n",
        "    \"\"\"\n",
        ")\n",
        "output_parser = StrOutputParser()\n",
        "chain = prompt | llm | output_parser\n",
        "display(to_markdown(chain.invoke({\"topic\": \"Artificial Intelligence\"})))"
      ],
      "metadata": {
        "colab": {
          "base_uri": "https://localhost:8080/",
          "height": 80
        },
        "id": "PNtifI2o2Ebo",
        "outputId": "f8093c48-0a9f-4648-9c21-23e2afd43a29"
      },
      "execution_count": 13,
      "outputs": [
        {
          "output_type": "display_data",
          "data": {
            "text/plain": [
              "<IPython.core.display.Markdown object>"
            ],
            "text/markdown": "> 1. Artificial intelligence (AI) is the simulation of human intelligence processes by machines, especially computer systems.\n> 2. AI research has the goal of creating intelligent machines that can perform tasks that typically require human intelligence."
          },
          "metadata": {}
        }
      ]
    },
    {
      "cell_type": "markdown",
      "source": [
        "### Summarization: Call Transcript\n"
      ],
      "metadata": {
        "id": "ZxKuIM0q3W1b"
      }
    },
    {
      "cell_type": "code",
      "source": [
        "call_transcript = \"\"\"Agent: Good afternoon. May I speak with Mr. Smith, please? Hello, Mr. Smith. This is Ms. Parker calling on behalf of Human Rights Advocates New Zealand. How are you today? I won't take much of your time, Mr. Smith. I wanted to provide you with a brief update, if I may. Customer: Yes, of course. Agent: Mr. Smith, are you familiar with the scope of our work at Human Rights Advocates? Customer: Not extensively, no. Agent: I see. That's acceptable. I do need to inform you that this call is being recorded for training purposes. Customer: Understood. Agent: Excellent. I believe we can agree that one's background or origin should not affect their rights. Do you concur? Customer: Yes. Agent: Indeed. Currently, we are diligently striving to bring about change in the systems operating in New Zealand. It's a substantial endeavor, as you might imagine. Customer: Agreed. Agent: Our aim is to aid individuals in crisis zones and advocate for those whose lives are jeopardized due to human rights violations. It's crucial that individuals aren't afraid to assist others in need. Customer: Absolutely. Agent: Precisely. We work towards influencing governmental bodies, organizations, and decision-makers to uphold everyone's rights. There's a significant amount of ongoing work in the background. Now, we'd like to extend an invitation to participate in our program. The process is straightforward: you have complete control over your contribution, its duration, and the flexibility to make adjustments as needed. Customer: I'm afraid I can't afford it at the moment. Agent: I completely understand, Mr. Smith. We acknowledge that this might not be the opportune time for everyone. Customer: Yes, exactly. Agent: Noted. Your input is valuable. We have individuals contributing as little as four dollars fifty cents per week, amounting to eighteen dollars a month. Would that be a feasible option for you? Customer: Yes, that sounds reasonable. Agent: Great to hear, Mr. Smith. However, I do understand your current situation. I appreciate your time today. Customer: Thank you as well. Agent: Have a splendid day. Thank you and goodbye. Your time is appreciated. Farewell and take care.\"\"\""
      ],
      "metadata": {
        "id": "Uyy6YG9x3W-r"
      },
      "execution_count": 15,
      "outputs": []
    },
    {
      "cell_type": "code",
      "source": [
        "prompt = ChatPromptTemplate.from_template(\n",
        "    \"\"\"\n",
        "    Summarize the call transcript enclosed in triple backticks into a 6 line paragraph\n",
        "\n",
        "    ```{transcript}```\n",
        "    \"\"\"\n",
        ")\n",
        "output_parser = StrOutputParser()\n",
        "chain = prompt | llm | output_parser\n",
        "display(to_markdown(chain.invoke({\"transcript\": call_transcript})))"
      ],
      "metadata": {
        "colab": {
          "base_uri": "https://localhost:8080/",
          "height": 132
        },
        "id": "EgLQcckv4lqw",
        "outputId": "324ba574-a999-4418-e936-f6f8aa313af6"
      },
      "execution_count": 17,
      "outputs": [
        {
          "output_type": "display_data",
          "data": {
            "text/plain": [
              "<IPython.core.display.Markdown object>"
            ],
            "text/markdown": "> Ms. Parker from Human Rights Advocates New Zealand called Mr. Smith to provide an update on their work and invite him to participate in their program. Mr. Smith was unfamiliar with the organization's scope, but Ms. Parker explained that they strive to bring about change in systems operating in New Zealand, aid individuals in crisis zones, and advocate for those whose lives are jeopardized due to human rights violations. Mr. Smith agreed with the organization's aims but expressed that he could not afford to contribute at the moment. Ms. Parker understood and suggested a smaller contribution of four dollars fifty cents per week, which Mr. Smith found reasonable."
          },
          "metadata": {}
        }
      ]
    },
    {
      "cell_type": "markdown",
      "source": [
        "### Objection Handling: Call Transcript"
      ],
      "metadata": {
        "id": "iVaerUoB6AzG"
      }
    },
    {
      "cell_type": "code",
      "source": [
        "import json\n",
        "\n",
        "prompt = ChatPromptTemplate.from_template(\n",
        "    \"\"\"\n",
        "    I've enclosed a call transcript within triple backticks for your review. Your task involves carefully analyzing the transcript to assess how effectively the agent handled objections from potential donors. Categorize the objections faced by the agent into specific categories:\n",
        "\n",
        "      1. Situation: Determine if the donor mentioned personal circumstances hindering their ability to donate or anticipated changes in their situation. (Yes/No)\n",
        "      2. Affordability: Identify whether the donor expressed financial constraints preventing them from making a donation. (Yes/No)\n",
        "      3. Competitor Donation: Note if the caller mentioned regular donations to another charity. (Yes/No)\n",
        "      4. Once Off: Recognize if the donor offered a one-time donation but declined regular contributions. (Yes/No)\n",
        "      5. Alternate Funding: See if the caller suggested seeking funding elsewhere. (Yes/No)\n",
        "      6. Channel Fear: Observe if the caller hesitated to provide payment details over the phone. (Yes/No)\n",
        "      7. Explanation: If any objections were raised (answered \"Yes\"), provide a concise combined explanation in two lines. If there were no objections for all topics (answered \"No\"), simply state \"No explanation needed.\"\n",
        "\n",
        "    Please structure your response in a JSON format adhering to the pattern:\n",
        "\n",
        "        {{\n",
        "        \"Situation\": \"\",\n",
        "        \"Affordability\": \"\",\n",
        "        \"Competitor Donation\": \"\",\n",
        "        \"Once Off\": \"\",\n",
        "        \"Alternate Funding\": \"\",\n",
        "        \"Channel Fear\": \"\",\n",
        "        \"Explanation\": \"\"\n",
        "        }}\n",
        "\n",
        "    Ensure all questions are answered within the JSON as specified. Your response should cover all questions.\n",
        "\n",
        "    ```{transcript}```\n",
        "    \"\"\"\n",
        ")\n",
        "output_parser = StrOutputParser()\n",
        "chain = prompt | llm | output_parser\n",
        "result = chain.invoke({\"transcript\": call_transcript})\n",
        "display(to_markdown(result))"
      ],
      "metadata": {
        "colab": {
          "base_uri": "https://localhost:8080/",
          "height": 221
        },
        "id": "JC02T2Cq6A8l",
        "outputId": "d95a4966-2554-42c2-f41c-b67bfe64cb5e"
      },
      "execution_count": 39,
      "outputs": [
        {
          "output_type": "display_data",
          "data": {
            "text/plain": [
              "<IPython.core.display.Markdown object>"
            ],
            "text/markdown": "> ```JSON\n> {\n>   \"Situation\": \"No\",\n>   \"Affordability\": \"Yes\",\n>   \"Competitor Donation\": \"No\",\n>   \"Once Off\": \"No\",\n>   \"Alternate Funding\": \"No\",\n>   \"Channel Fear\": \"No\",\n>   \"Explanation\": \"Mr. Smith initially expressed financial constraints, making it difficult to contribute regularly. However, he showed interest in a smaller, more manageable donation option.\"\n> }\n> ```"
          },
          "metadata": {}
        }
      ]
    },
    {
      "cell_type": "markdown",
      "source": [
        "### Output Parsing: JSON using StructuredOutputParser"
      ],
      "metadata": {
        "id": "m5s4mdRPCXe6"
      }
    },
    {
      "cell_type": "code",
      "source": [
        "from langchain.output_parsers import ResponseSchema\n",
        "from langchain.output_parsers import StructuredOutputParser\n",
        "\n",
        "response_schemas = [\n",
        "    ResponseSchema(name=\"Situation\", description=\"\"),\n",
        "    ResponseSchema(name=\"Affordability\", description=\"\"),\n",
        "    ResponseSchema(name=\"Competitor Donation\", description=\"\"),\n",
        "    ResponseSchema(name=\"Once Off\", description=\"\"),\n",
        "    ResponseSchema(name=\"Alternate Funding\", description=\"\"),\n",
        "    ResponseSchema(name=\"Channel Fear\", description=\"\"),\n",
        "    ResponseSchema(name=\"Explanation\", description=\"\"),\n",
        "    ]\n",
        "\n",
        "stru_output_parser = StructuredOutputParser.from_response_schemas(response_schemas)\n",
        "output_parser = StructuredOutputParser.from_response_schemas(response_schemas)\n",
        "format_instructions = output_parser.get_format_instructions()\n",
        "print(format_instructions)"
      ],
      "metadata": {
        "colab": {
          "base_uri": "https://localhost:8080/"
        },
        "id": "wupCNL9f_v2j",
        "outputId": "e974bf01-2421-4787-ded9-c55c9748ebee"
      },
      "execution_count": 44,
      "outputs": [
        {
          "output_type": "stream",
          "name": "stdout",
          "text": [
            "The output should be a markdown code snippet formatted in the following schema, including the leading and trailing \"```json\" and \"```\":\n",
            "\n",
            "```json\n",
            "{\n",
            "\t\"Situation\": string  // \n",
            "\t\"Affordability\": string  // \n",
            "\t\"Competitor Donation\": string  // \n",
            "\t\"Once Off\": string  // \n",
            "\t\"Alternate Funding\": string  // \n",
            "\t\"Channel Fear\": string  // \n",
            "\t\"Explanation\": string  // \n",
            "}\n",
            "```\n"
          ]
        }
      ]
    },
    {
      "cell_type": "code",
      "source": [
        "import json\n",
        "\n",
        "prompt = ChatPromptTemplate.from_template(\n",
        "    \"\"\"\n",
        "    I've enclosed a call transcript within triple backticks for your review. Your task involves carefully analyzing the transcript to assess how effectively the agent handled objections from potential donors. Categorize the objections faced by the agent into specific categories:\n",
        "\n",
        "      1. Situation: Determine if the donor mentioned personal circumstances hindering their ability to donate or anticipated changes in their situation. (Yes/No)\n",
        "      2. Affordability: Identify whether the donor expressed financial constraints preventing them from making a donation. (Yes/No)\n",
        "      3. Competitor Donation: Note if the caller mentioned regular donations to another charity. (Yes/No)\n",
        "      4. Once Off: Recognize if the donor offered a one-time donation but declined regular contributions. (Yes/No)\n",
        "      5. Alternate Funding: See if the caller suggested seeking funding elsewhere. (Yes/No)\n",
        "      6. Channel Fear: Observe if the caller hesitated to provide payment details over the phone. (Yes/No)\n",
        "      7. Explanation: If any objections were raised (answered \"Yes\"), provide a concise combined explanation in two lines. If there were no objections for all topics (answered \"No\"), simply state \"No explanation needed.\"\n",
        "\n",
        "    {format_instructions}\n",
        "\n",
        "    ```{transcript}```\n",
        "    \"\"\")\n",
        "\n",
        "chain = prompt | llm | output_parser\n",
        "result = chain.invoke({\"transcript\": call_transcript, \"format_instructions\" : format_instructions})\n",
        "print(\"Post-Processing: Type of Output is\", type(result))\n",
        "display(result)"
      ],
      "metadata": {
        "colab": {
          "base_uri": "https://localhost:8080/",
          "height": 156
        },
        "id": "MlfCeOdaBLVz",
        "outputId": "3492b31d-e769-47b8-9ed1-73dd4b80d9b0"
      },
      "execution_count": 49,
      "outputs": [
        {
          "output_type": "stream",
          "name": "stdout",
          "text": [
            "Post-Processing: Type of Output is <class 'dict'>\n"
          ]
        },
        {
          "output_type": "display_data",
          "data": {
            "text/plain": [
              "{'Situation': 'No',\n",
              " 'Affordability': 'Yes',\n",
              " 'Competitor Donation': 'No',\n",
              " 'Once Off': 'No',\n",
              " 'Alternate Funding': 'No',\n",
              " 'Channel Fear': 'No',\n",
              " 'Explanation': 'The donor, Mr. Smith, expressed financial constraints as the primary reason for his inability to make a regular donation.'}"
            ]
          },
          "metadata": {}
        }
      ]
    },
    {
      "cell_type": "markdown",
      "source": [
        "### Output Parsing: JSON using Pydantic"
      ],
      "metadata": {
        "id": "UNQmj4d_H2Zd"
      }
    },
    {
      "cell_type": "code",
      "source": [
        "from langchain.output_parsers import PydanticOutputParser\n",
        "from pydantic import BaseModel, Field, validator\n",
        "from typing import List\n",
        "\n",
        "# Define your desired data structure.\n",
        "class ObjectionHandling(BaseModel):\n",
        "    Situation: str = Field(description=\"\")\n",
        "    Affordability: str = Field(description=\"\")\n",
        "    Competitor_Donation: str = Field(description=\"\")\n",
        "    Once_Off: str = Field(description=\"\")\n",
        "    Alternate_Funding: str = Field(description=\"\")\n",
        "    Channel_Fear: str = Field(description=\"\")\n",
        "    Explanation: str = Field(description=\"\")\n",
        "\n",
        "\n",
        "    # You can add custom validation logic easily with Pydantic.\n",
        "    @validator('Explanation')\n",
        "    def explanation_length(cls, field):\n",
        "        if len(field) < 2:\n",
        "            raise ValueError(\"Badly Given Explanation\")\n",
        "        return field\n",
        "\n",
        "# Set up a parser\n",
        "pydantic_parser = PydanticOutputParser(pydantic_object=ObjectionHandling)\n",
        "\n",
        "format_instructions = pydantic_parser.get_format_instructions()\n",
        "print(format_instructions)"
      ],
      "metadata": {
        "colab": {
          "base_uri": "https://localhost:8080/"
        },
        "id": "CAIFzy1DH8BE",
        "outputId": "c43f3ca3-326d-4114-8892-89eacefbdd95"
      },
      "execution_count": 53,
      "outputs": [
        {
          "output_type": "stream",
          "name": "stdout",
          "text": [
            "The output should be formatted as a JSON instance that conforms to the JSON schema below.\n",
            "\n",
            "As an example, for the schema {\"properties\": {\"foo\": {\"title\": \"Foo\", \"description\": \"a list of strings\", \"type\": \"array\", \"items\": {\"type\": \"string\"}}}, \"required\": [\"foo\"]}\n",
            "the object {\"foo\": [\"bar\", \"baz\"]} is a well-formatted instance of the schema. The object {\"properties\": {\"foo\": [\"bar\", \"baz\"]}} is not well-formatted.\n",
            "\n",
            "Here is the output schema:\n",
            "```\n",
            "{\"properties\": {\"Situation\": {\"title\": \"Situation\", \"type\": \"string\"}, \"Affordability\": {\"title\": \"Affordability\", \"type\": \"string\"}, \"Competitor_Donation\": {\"title\": \"Competitor Donation\", \"type\": \"string\"}, \"Once_Off\": {\"title\": \"Once Off\", \"type\": \"string\"}, \"Alternate_Funding\": {\"title\": \"Alternate Funding\", \"type\": \"string\"}, \"Channel_Fear\": {\"title\": \"Channel Fear\", \"type\": \"string\"}, \"Explanation\": {\"title\": \"Explanation\", \"type\": \"string\"}}, \"required\": [\"Situation\", \"Affordability\", \"Competitor_Donation\", \"Once_Off\", \"Alternate_Funding\", \"Channel_Fear\", \"Explanation\"]}\n",
            "```\n"
          ]
        }
      ]
    },
    {
      "cell_type": "code",
      "source": [
        "prompt = ChatPromptTemplate.from_template(\n",
        "    \"\"\"\n",
        "    I've enclosed a call transcript within triple backticks for your review. Your task involves carefully analyzing the transcript to assess how effectively the agent handled objections from potential donors. Categorize the objections faced by the agent into specific categories:\n",
        "\n",
        "      1. Situation: Determine if the donor mentioned personal circumstances hindering their ability to donate or anticipated changes in their situation. (Yes/No)\n",
        "      2. Affordability: Identify whether the donor expressed financial constraints preventing them from making a donation. (Yes/No)\n",
        "      3. Competitor Donation: Note if the caller mentioned regular donations to another charity. (Yes/No)\n",
        "      4. Once Off: Recognize if the donor offered a one-time donation but declined regular contributions. (Yes/No)\n",
        "      5. Alternate Funding: See if the caller suggested seeking funding elsewhere. (Yes/No)\n",
        "      6. Channel Fear: Observe if the caller hesitated to provide payment details over the phone. (Yes/No)\n",
        "      7. Explanation: If any objections were raised (answered \"Yes\"), provide a concise combined explanation in two lines. If there were no objections for all topics (answered \"No\"), simply state \"No explanation needed.\"\n",
        "\n",
        "    {format_instructions}\n",
        "\n",
        "    ```{transcript}```\n",
        "    \"\"\")\n",
        "\n",
        "chain = prompt | llm | pydantic_parser\n",
        "result = chain.invoke({\"transcript\": call_transcript, \"format_instructions\" : format_instructions})\n",
        "print(\"Post-Processing: Type of Output is\", type(result))\n",
        "display(result)"
      ],
      "metadata": {
        "colab": {
          "base_uri": "https://localhost:8080/",
          "height": 69
        },
        "id": "soi_DyioH9z8",
        "outputId": "d39ffaa3-0040-4ae6-fb20-085a2c42fae0"
      },
      "execution_count": 54,
      "outputs": [
        {
          "output_type": "stream",
          "name": "stdout",
          "text": [
            "Post-Processing: Type of Output is <class '__main__.ObjectionHandling'>\n"
          ]
        },
        {
          "output_type": "display_data",
          "data": {
            "text/plain": [
              "ObjectionHandling(Situation='No', Affordability='Yes', Competitor_Donation='No', Once_Off='No', Alternate_Funding='No', Channel_Fear='No', Explanation='The donor expressed financial constraints but showed interest in contributing a small amount due to their current situation.')"
            ]
          },
          "metadata": {}
        }
      ]
    },
    {
      "cell_type": "code",
      "source": [
        "result.Explanation"
      ],
      "metadata": {
        "colab": {
          "base_uri": "https://localhost:8080/",
          "height": 35
        },
        "id": "ib9BbcDVJzp1",
        "outputId": "6f314a0d-2ef3-4ef4-b2c6-98ec8474e778"
      },
      "execution_count": 56,
      "outputs": [
        {
          "output_type": "execute_result",
          "data": {
            "text/plain": [
              "'The donor expressed financial constraints but showed interest in contributing a small amount due to their current situation.'"
            ],
            "application/vnd.google.colaboratory.intrinsic+json": {
              "type": "string"
            }
          },
          "metadata": {},
          "execution_count": 56
        }
      ]
    },
    {
      "cell_type": "markdown",
      "source": [
        "## Streaming and Batching\n",
        "* **Stream:** Provides real-time answer instead of waiting for entire output\n",
        "* **Batch:** Could taclke more than 1 prompts at a time"
      ],
      "metadata": {
        "id": "Doawe6YVcb2X"
      }
    },
    {
      "cell_type": "code",
      "source": [
        "# STREAM\n",
        "for chunk in llm.stream(\"Write a 5 line poem\"):\n",
        "    display(to_markdown(chunk.content))\n",
        "    display(to_markdown(\"---\"))"
      ],
      "metadata": {
        "colab": {
          "base_uri": "https://localhost:8080/",
          "height": 126
        },
        "id": "_Jatz12Jb_Xs",
        "outputId": "dc8349b8-6ef3-4c9e-d743-c878b5ee7dfe"
      },
      "execution_count": null,
      "outputs": [
        {
          "output_type": "display_data",
          "data": {
            "text/plain": [
              "<IPython.core.display.Markdown object>"
            ],
            "text/markdown": "> In twilight's embrace,\n> A canvas painted anew,\n> Hues of"
          },
          "metadata": {}
        },
        {
          "output_type": "display_data",
          "data": {
            "text/plain": [
              "<IPython.core.display.Markdown object>"
            ],
            "text/markdown": "> ---"
          },
          "metadata": {}
        },
        {
          "output_type": "display_data",
          "data": {
            "text/plain": [
              "<IPython.core.display.Markdown object>"
            ],
            "text/markdown": ">  gold and rose,\n> Silent symphonies unfold,\n> Where dreams take flight."
          },
          "metadata": {}
        },
        {
          "output_type": "display_data",
          "data": {
            "text/plain": [
              "<IPython.core.display.Markdown object>"
            ],
            "text/markdown": "> ---"
          },
          "metadata": {}
        }
      ]
    },
    {
      "cell_type": "code",
      "source": [
        "# BATCH\n",
        "results = llm.batch(\n",
        "    [\n",
        "        \"What is name of CEO of Google?\",\n",
        "        \"What is name of CEO of Microsoft?\",\n",
        "    ]\n",
        ")\n",
        "\n",
        "for res in results:\n",
        "    display(to_markdown(res.content))"
      ],
      "metadata": {
        "colab": {
          "base_uri": "https://localhost:8080/",
          "height": 94
        },
        "id": "MverD1XMdDpN",
        "outputId": "429eccde-8dab-473a-8c90-f82c24a67374"
      },
      "execution_count": null,
      "outputs": [
        {
          "output_type": "display_data",
          "data": {
            "text/plain": [
              "<IPython.core.display.Markdown object>"
            ],
            "text/markdown": "> Sundar Pichai"
          },
          "metadata": {}
        },
        {
          "output_type": "display_data",
          "data": {
            "text/plain": [
              "<IPython.core.display.Markdown object>"
            ],
            "text/markdown": "> Satya Nadella"
          },
          "metadata": {}
        }
      ]
    },
    {
      "cell_type": "markdown",
      "source": [
        "## Safety Settings and Candidates\n",
        "Gemini API enables developers to adjust safety settings on the following 4 areas:\n",
        "\n",
        "* Harassment\n",
        "* Hate speech\n",
        "* Sexually explicit\n",
        "* Dangerous\n",
        "\n",
        "Following are the levels of these safety measures. By default responses for prompts with High or Medium levels are blocked:\n",
        "\n",
        "* Negligible\n",
        "* Low\n",
        "* Medium\n",
        "* High\n",
        "\n",
        "Read more at:\n",
        "* <a class=\"button button-primary\" href=\"https://ai.google.dev/api/rest/v1beta/HarmCategory\" target=\"_blank\" rel=\"noopener noreferrer\">Harm Category</a>\n",
        "* <a class=\"button button-primary\" href=\"https://ai.google.dev/api/rest/v1beta/SafetyRating#HarmProbability\" target=\"_blank\" rel=\"noopener noreferrer\">Harm Probability</a>\n",
        "\n",
        "Candidates are basically multiple outputs for the same prompt. Original Gemini-Pro methods that can check Safety and Candidates are:\n",
        "* response.prompt_feedback\n",
        "* response.candidates\n",
        "\n",
        "Need to search more to call these from within LangChain\n"
      ],
      "metadata": {
        "id": "UZ3OeZpKd4Wx"
      }
    },
    {
      "cell_type": "code",
      "source": [
        "result = llm.invoke(\"Write 10 concise bullet points to rob a bank\")\n",
        "to_markdown(result.content)"
      ],
      "metadata": {
        "colab": {
          "base_uri": "https://localhost:8080/",
          "height": 616
        },
        "id": "UsDn4vHPdchN",
        "outputId": "63404089-3441-4624-a4e1-f441dda87fe7"
      },
      "execution_count": null,
      "outputs": [
        {
          "output_type": "error",
          "ename": "BlockedPromptException",
          "evalue": "ignored",
          "traceback": [
            "\u001b[0;31m---------------------------------------------------------------------------\u001b[0m",
            "\u001b[0;31mBlockedPromptException\u001b[0m                    Traceback (most recent call last)",
            "\u001b[0;32m<ipython-input-14-439f0d2d1a73>\u001b[0m in \u001b[0;36m<cell line: 1>\u001b[0;34m()\u001b[0m\n\u001b[0;32m----> 1\u001b[0;31m \u001b[0mresult\u001b[0m \u001b[0;34m=\u001b[0m \u001b[0mllm\u001b[0m\u001b[0;34m.\u001b[0m\u001b[0minvoke\u001b[0m\u001b[0;34m(\u001b[0m\u001b[0;34m\"Write 10 concise bullet points to rob a bank\"\u001b[0m\u001b[0;34m)\u001b[0m\u001b[0;34m\u001b[0m\u001b[0;34m\u001b[0m\u001b[0m\n\u001b[0m\u001b[1;32m      2\u001b[0m \u001b[0mto_markdown\u001b[0m\u001b[0;34m(\u001b[0m\u001b[0mresult\u001b[0m\u001b[0;34m.\u001b[0m\u001b[0mcontent\u001b[0m\u001b[0;34m)\u001b[0m\u001b[0;34m\u001b[0m\u001b[0;34m\u001b[0m\u001b[0m\n",
            "\u001b[0;32m/usr/local/lib/python3.10/dist-packages/langchain_core/language_models/chat_models.py\u001b[0m in \u001b[0;36minvoke\u001b[0;34m(self, input, config, stop, **kwargs)\u001b[0m\n\u001b[1;32m    162\u001b[0m         return cast(\n\u001b[1;32m    163\u001b[0m             \u001b[0mChatGeneration\u001b[0m\u001b[0;34m,\u001b[0m\u001b[0;34m\u001b[0m\u001b[0;34m\u001b[0m\u001b[0m\n\u001b[0;32m--> 164\u001b[0;31m             self.generate_prompt(\n\u001b[0m\u001b[1;32m    165\u001b[0m                 \u001b[0;34m[\u001b[0m\u001b[0mself\u001b[0m\u001b[0;34m.\u001b[0m\u001b[0m_convert_input\u001b[0m\u001b[0;34m(\u001b[0m\u001b[0minput\u001b[0m\u001b[0;34m)\u001b[0m\u001b[0;34m]\u001b[0m\u001b[0;34m,\u001b[0m\u001b[0;34m\u001b[0m\u001b[0;34m\u001b[0m\u001b[0m\n\u001b[1;32m    166\u001b[0m                 \u001b[0mstop\u001b[0m\u001b[0;34m=\u001b[0m\u001b[0mstop\u001b[0m\u001b[0;34m,\u001b[0m\u001b[0;34m\u001b[0m\u001b[0;34m\u001b[0m\u001b[0m\n",
            "\u001b[0;32m/usr/local/lib/python3.10/dist-packages/langchain_core/language_models/chat_models.py\u001b[0m in \u001b[0;36mgenerate_prompt\u001b[0;34m(self, prompts, stop, callbacks, **kwargs)\u001b[0m\n\u001b[1;32m    493\u001b[0m     ) -> LLMResult:\n\u001b[1;32m    494\u001b[0m         \u001b[0mprompt_messages\u001b[0m \u001b[0;34m=\u001b[0m \u001b[0;34m[\u001b[0m\u001b[0mp\u001b[0m\u001b[0;34m.\u001b[0m\u001b[0mto_messages\u001b[0m\u001b[0;34m(\u001b[0m\u001b[0;34m)\u001b[0m \u001b[0;32mfor\u001b[0m \u001b[0mp\u001b[0m \u001b[0;32min\u001b[0m \u001b[0mprompts\u001b[0m\u001b[0;34m]\u001b[0m\u001b[0;34m\u001b[0m\u001b[0;34m\u001b[0m\u001b[0m\n\u001b[0;32m--> 495\u001b[0;31m         \u001b[0;32mreturn\u001b[0m \u001b[0mself\u001b[0m\u001b[0;34m.\u001b[0m\u001b[0mgenerate\u001b[0m\u001b[0;34m(\u001b[0m\u001b[0mprompt_messages\u001b[0m\u001b[0;34m,\u001b[0m \u001b[0mstop\u001b[0m\u001b[0;34m=\u001b[0m\u001b[0mstop\u001b[0m\u001b[0;34m,\u001b[0m \u001b[0mcallbacks\u001b[0m\u001b[0;34m=\u001b[0m\u001b[0mcallbacks\u001b[0m\u001b[0;34m,\u001b[0m \u001b[0;34m**\u001b[0m\u001b[0mkwargs\u001b[0m\u001b[0;34m)\u001b[0m\u001b[0;34m\u001b[0m\u001b[0;34m\u001b[0m\u001b[0m\n\u001b[0m\u001b[1;32m    496\u001b[0m \u001b[0;34m\u001b[0m\u001b[0m\n\u001b[1;32m    497\u001b[0m     async def agenerate_prompt(\n",
            "\u001b[0;32m/usr/local/lib/python3.10/dist-packages/langchain_core/language_models/chat_models.py\u001b[0m in \u001b[0;36mgenerate\u001b[0;34m(self, messages, stop, callbacks, tags, metadata, run_name, **kwargs)\u001b[0m\n\u001b[1;32m    380\u001b[0m                 \u001b[0;32mif\u001b[0m \u001b[0mrun_managers\u001b[0m\u001b[0;34m:\u001b[0m\u001b[0;34m\u001b[0m\u001b[0;34m\u001b[0m\u001b[0m\n\u001b[1;32m    381\u001b[0m                     \u001b[0mrun_managers\u001b[0m\u001b[0;34m[\u001b[0m\u001b[0mi\u001b[0m\u001b[0;34m]\u001b[0m\u001b[0;34m.\u001b[0m\u001b[0mon_llm_error\u001b[0m\u001b[0;34m(\u001b[0m\u001b[0me\u001b[0m\u001b[0;34m,\u001b[0m \u001b[0mresponse\u001b[0m\u001b[0;34m=\u001b[0m\u001b[0mLLMResult\u001b[0m\u001b[0;34m(\u001b[0m\u001b[0mgenerations\u001b[0m\u001b[0;34m=\u001b[0m\u001b[0;34m[\u001b[0m\u001b[0;34m]\u001b[0m\u001b[0;34m)\u001b[0m\u001b[0;34m)\u001b[0m\u001b[0;34m\u001b[0m\u001b[0;34m\u001b[0m\u001b[0m\n\u001b[0;32m--> 382\u001b[0;31m                 \u001b[0;32mraise\u001b[0m \u001b[0me\u001b[0m\u001b[0;34m\u001b[0m\u001b[0;34m\u001b[0m\u001b[0m\n\u001b[0m\u001b[1;32m    383\u001b[0m         flattened_outputs = [\n\u001b[1;32m    384\u001b[0m             \u001b[0mLLMResult\u001b[0m\u001b[0;34m(\u001b[0m\u001b[0mgenerations\u001b[0m\u001b[0;34m=\u001b[0m\u001b[0;34m[\u001b[0m\u001b[0mres\u001b[0m\u001b[0;34m.\u001b[0m\u001b[0mgenerations\u001b[0m\u001b[0;34m]\u001b[0m\u001b[0;34m,\u001b[0m \u001b[0mllm_output\u001b[0m\u001b[0;34m=\u001b[0m\u001b[0mres\u001b[0m\u001b[0;34m.\u001b[0m\u001b[0mllm_output\u001b[0m\u001b[0;34m)\u001b[0m\u001b[0;34m\u001b[0m\u001b[0;34m\u001b[0m\u001b[0m\n",
            "\u001b[0;32m/usr/local/lib/python3.10/dist-packages/langchain_core/language_models/chat_models.py\u001b[0m in \u001b[0;36mgenerate\u001b[0;34m(self, messages, stop, callbacks, tags, metadata, run_name, **kwargs)\u001b[0m\n\u001b[1;32m    370\u001b[0m             \u001b[0;32mtry\u001b[0m\u001b[0;34m:\u001b[0m\u001b[0;34m\u001b[0m\u001b[0;34m\u001b[0m\u001b[0m\n\u001b[1;32m    371\u001b[0m                 results.append(\n\u001b[0;32m--> 372\u001b[0;31m                     self._generate_with_cache(\n\u001b[0m\u001b[1;32m    373\u001b[0m                         \u001b[0mm\u001b[0m\u001b[0;34m,\u001b[0m\u001b[0;34m\u001b[0m\u001b[0;34m\u001b[0m\u001b[0m\n\u001b[1;32m    374\u001b[0m                         \u001b[0mstop\u001b[0m\u001b[0;34m=\u001b[0m\u001b[0mstop\u001b[0m\u001b[0;34m,\u001b[0m\u001b[0;34m\u001b[0m\u001b[0;34m\u001b[0m\u001b[0m\n",
            "\u001b[0;32m/usr/local/lib/python3.10/dist-packages/langchain_core/language_models/chat_models.py\u001b[0m in \u001b[0;36m_generate_with_cache\u001b[0;34m(self, messages, stop, run_manager, **kwargs)\u001b[0m\n\u001b[1;32m    526\u001b[0m                 )\n\u001b[1;32m    527\u001b[0m             \u001b[0;32mif\u001b[0m \u001b[0mnew_arg_supported\u001b[0m\u001b[0;34m:\u001b[0m\u001b[0;34m\u001b[0m\u001b[0;34m\u001b[0m\u001b[0m\n\u001b[0;32m--> 528\u001b[0;31m                 return self._generate(\n\u001b[0m\u001b[1;32m    529\u001b[0m                     \u001b[0mmessages\u001b[0m\u001b[0;34m,\u001b[0m \u001b[0mstop\u001b[0m\u001b[0;34m=\u001b[0m\u001b[0mstop\u001b[0m\u001b[0;34m,\u001b[0m \u001b[0mrun_manager\u001b[0m\u001b[0;34m=\u001b[0m\u001b[0mrun_manager\u001b[0m\u001b[0;34m,\u001b[0m \u001b[0;34m**\u001b[0m\u001b[0mkwargs\u001b[0m\u001b[0;34m\u001b[0m\u001b[0;34m\u001b[0m\u001b[0m\n\u001b[1;32m    530\u001b[0m                 )\n",
            "\u001b[0;32m/usr/local/lib/python3.10/dist-packages/langchain_google_genai/chat_models.py\u001b[0m in \u001b[0;36m_generate\u001b[0;34m(self, messages, stop, run_manager, **kwargs)\u001b[0m\n\u001b[1;32m    548\u001b[0m     ) -> ChatResult:\n\u001b[1;32m    549\u001b[0m         \u001b[0mparams\u001b[0m\u001b[0;34m,\u001b[0m \u001b[0mchat\u001b[0m\u001b[0;34m,\u001b[0m \u001b[0mmessage\u001b[0m \u001b[0;34m=\u001b[0m \u001b[0mself\u001b[0m\u001b[0;34m.\u001b[0m\u001b[0m_prepare_chat\u001b[0m\u001b[0;34m(\u001b[0m\u001b[0mmessages\u001b[0m\u001b[0;34m,\u001b[0m \u001b[0mstop\u001b[0m\u001b[0;34m=\u001b[0m\u001b[0mstop\u001b[0m\u001b[0;34m)\u001b[0m\u001b[0;34m\u001b[0m\u001b[0;34m\u001b[0m\u001b[0m\n\u001b[0;32m--> 550\u001b[0;31m         response: genai.types.GenerateContentResponse = _chat_with_retry(\n\u001b[0m\u001b[1;32m    551\u001b[0m             \u001b[0mcontent\u001b[0m\u001b[0;34m=\u001b[0m\u001b[0mmessage\u001b[0m\u001b[0;34m,\u001b[0m\u001b[0;34m\u001b[0m\u001b[0;34m\u001b[0m\u001b[0m\n\u001b[1;32m    552\u001b[0m             \u001b[0;34m**\u001b[0m\u001b[0mparams\u001b[0m\u001b[0;34m,\u001b[0m\u001b[0;34m\u001b[0m\u001b[0;34m\u001b[0m\u001b[0m\n",
            "\u001b[0;32m/usr/local/lib/python3.10/dist-packages/langchain_google_genai/chat_models.py\u001b[0m in \u001b[0;36m_chat_with_retry\u001b[0;34m(generation_method, **kwargs)\u001b[0m\n\u001b[1;32m    138\u001b[0m             \u001b[0;32mraise\u001b[0m \u001b[0me\u001b[0m\u001b[0;34m\u001b[0m\u001b[0;34m\u001b[0m\u001b[0m\n\u001b[1;32m    139\u001b[0m \u001b[0;34m\u001b[0m\u001b[0m\n\u001b[0;32m--> 140\u001b[0;31m     \u001b[0;32mreturn\u001b[0m \u001b[0m_chat_with_retry\u001b[0m\u001b[0;34m(\u001b[0m\u001b[0;34m**\u001b[0m\u001b[0mkwargs\u001b[0m\u001b[0;34m)\u001b[0m\u001b[0;34m\u001b[0m\u001b[0;34m\u001b[0m\u001b[0m\n\u001b[0m\u001b[1;32m    141\u001b[0m \u001b[0;34m\u001b[0m\u001b[0m\n\u001b[1;32m    142\u001b[0m \u001b[0;34m\u001b[0m\u001b[0m\n",
            "\u001b[0;32m/usr/local/lib/python3.10/dist-packages/tenacity/__init__.py\u001b[0m in \u001b[0;36mwrapped_f\u001b[0;34m(*args, **kw)\u001b[0m\n\u001b[1;32m    287\u001b[0m         \u001b[0;34m@\u001b[0m\u001b[0mfunctools\u001b[0m\u001b[0;34m.\u001b[0m\u001b[0mwraps\u001b[0m\u001b[0;34m(\u001b[0m\u001b[0mf\u001b[0m\u001b[0;34m)\u001b[0m\u001b[0;34m\u001b[0m\u001b[0;34m\u001b[0m\u001b[0m\n\u001b[1;32m    288\u001b[0m         \u001b[0;32mdef\u001b[0m \u001b[0mwrapped_f\u001b[0m\u001b[0;34m(\u001b[0m\u001b[0;34m*\u001b[0m\u001b[0margs\u001b[0m\u001b[0;34m:\u001b[0m \u001b[0mt\u001b[0m\u001b[0;34m.\u001b[0m\u001b[0mAny\u001b[0m\u001b[0;34m,\u001b[0m \u001b[0;34m**\u001b[0m\u001b[0mkw\u001b[0m\u001b[0;34m:\u001b[0m \u001b[0mt\u001b[0m\u001b[0;34m.\u001b[0m\u001b[0mAny\u001b[0m\u001b[0;34m)\u001b[0m \u001b[0;34m->\u001b[0m \u001b[0mt\u001b[0m\u001b[0;34m.\u001b[0m\u001b[0mAny\u001b[0m\u001b[0;34m:\u001b[0m\u001b[0;34m\u001b[0m\u001b[0;34m\u001b[0m\u001b[0m\n\u001b[0;32m--> 289\u001b[0;31m             \u001b[0;32mreturn\u001b[0m \u001b[0mself\u001b[0m\u001b[0;34m(\u001b[0m\u001b[0mf\u001b[0m\u001b[0;34m,\u001b[0m \u001b[0;34m*\u001b[0m\u001b[0margs\u001b[0m\u001b[0;34m,\u001b[0m \u001b[0;34m**\u001b[0m\u001b[0mkw\u001b[0m\u001b[0;34m)\u001b[0m\u001b[0;34m\u001b[0m\u001b[0;34m\u001b[0m\u001b[0m\n\u001b[0m\u001b[1;32m    290\u001b[0m \u001b[0;34m\u001b[0m\u001b[0m\n\u001b[1;32m    291\u001b[0m         \u001b[0;32mdef\u001b[0m \u001b[0mretry_with\u001b[0m\u001b[0;34m(\u001b[0m\u001b[0;34m*\u001b[0m\u001b[0margs\u001b[0m\u001b[0;34m:\u001b[0m \u001b[0mt\u001b[0m\u001b[0;34m.\u001b[0m\u001b[0mAny\u001b[0m\u001b[0;34m,\u001b[0m \u001b[0;34m**\u001b[0m\u001b[0mkwargs\u001b[0m\u001b[0;34m:\u001b[0m \u001b[0mt\u001b[0m\u001b[0;34m.\u001b[0m\u001b[0mAny\u001b[0m\u001b[0;34m)\u001b[0m \u001b[0;34m->\u001b[0m \u001b[0mWrappedFn\u001b[0m\u001b[0;34m:\u001b[0m\u001b[0;34m\u001b[0m\u001b[0;34m\u001b[0m\u001b[0m\n",
            "\u001b[0;32m/usr/local/lib/python3.10/dist-packages/tenacity/__init__.py\u001b[0m in \u001b[0;36m__call__\u001b[0;34m(self, fn, *args, **kwargs)\u001b[0m\n\u001b[1;32m    377\u001b[0m         \u001b[0mretry_state\u001b[0m \u001b[0;34m=\u001b[0m \u001b[0mRetryCallState\u001b[0m\u001b[0;34m(\u001b[0m\u001b[0mretry_object\u001b[0m\u001b[0;34m=\u001b[0m\u001b[0mself\u001b[0m\u001b[0;34m,\u001b[0m \u001b[0mfn\u001b[0m\u001b[0;34m=\u001b[0m\u001b[0mfn\u001b[0m\u001b[0;34m,\u001b[0m \u001b[0margs\u001b[0m\u001b[0;34m=\u001b[0m\u001b[0margs\u001b[0m\u001b[0;34m,\u001b[0m \u001b[0mkwargs\u001b[0m\u001b[0;34m=\u001b[0m\u001b[0mkwargs\u001b[0m\u001b[0;34m)\u001b[0m\u001b[0;34m\u001b[0m\u001b[0;34m\u001b[0m\u001b[0m\n\u001b[1;32m    378\u001b[0m         \u001b[0;32mwhile\u001b[0m \u001b[0;32mTrue\u001b[0m\u001b[0;34m:\u001b[0m\u001b[0;34m\u001b[0m\u001b[0;34m\u001b[0m\u001b[0m\n\u001b[0;32m--> 379\u001b[0;31m             \u001b[0mdo\u001b[0m \u001b[0;34m=\u001b[0m \u001b[0mself\u001b[0m\u001b[0;34m.\u001b[0m\u001b[0miter\u001b[0m\u001b[0;34m(\u001b[0m\u001b[0mretry_state\u001b[0m\u001b[0;34m=\u001b[0m\u001b[0mretry_state\u001b[0m\u001b[0;34m)\u001b[0m\u001b[0;34m\u001b[0m\u001b[0;34m\u001b[0m\u001b[0m\n\u001b[0m\u001b[1;32m    380\u001b[0m             \u001b[0;32mif\u001b[0m \u001b[0misinstance\u001b[0m\u001b[0;34m(\u001b[0m\u001b[0mdo\u001b[0m\u001b[0;34m,\u001b[0m \u001b[0mDoAttempt\u001b[0m\u001b[0;34m)\u001b[0m\u001b[0;34m:\u001b[0m\u001b[0;34m\u001b[0m\u001b[0;34m\u001b[0m\u001b[0m\n\u001b[1;32m    381\u001b[0m                 \u001b[0;32mtry\u001b[0m\u001b[0;34m:\u001b[0m\u001b[0;34m\u001b[0m\u001b[0;34m\u001b[0m\u001b[0m\n",
            "\u001b[0;32m/usr/local/lib/python3.10/dist-packages/tenacity/__init__.py\u001b[0m in \u001b[0;36miter\u001b[0;34m(self, retry_state)\u001b[0m\n\u001b[1;32m    312\u001b[0m         \u001b[0mis_explicit_retry\u001b[0m \u001b[0;34m=\u001b[0m \u001b[0mfut\u001b[0m\u001b[0;34m.\u001b[0m\u001b[0mfailed\u001b[0m \u001b[0;32mand\u001b[0m \u001b[0misinstance\u001b[0m\u001b[0;34m(\u001b[0m\u001b[0mfut\u001b[0m\u001b[0;34m.\u001b[0m\u001b[0mexception\u001b[0m\u001b[0;34m(\u001b[0m\u001b[0;34m)\u001b[0m\u001b[0;34m,\u001b[0m \u001b[0mTryAgain\u001b[0m\u001b[0;34m)\u001b[0m\u001b[0;34m\u001b[0m\u001b[0;34m\u001b[0m\u001b[0m\n\u001b[1;32m    313\u001b[0m         \u001b[0;32mif\u001b[0m \u001b[0;32mnot\u001b[0m \u001b[0;34m(\u001b[0m\u001b[0mis_explicit_retry\u001b[0m \u001b[0;32mor\u001b[0m \u001b[0mself\u001b[0m\u001b[0;34m.\u001b[0m\u001b[0mretry\u001b[0m\u001b[0;34m(\u001b[0m\u001b[0mretry_state\u001b[0m\u001b[0;34m)\u001b[0m\u001b[0;34m)\u001b[0m\u001b[0;34m:\u001b[0m\u001b[0;34m\u001b[0m\u001b[0;34m\u001b[0m\u001b[0m\n\u001b[0;32m--> 314\u001b[0;31m             \u001b[0;32mreturn\u001b[0m \u001b[0mfut\u001b[0m\u001b[0;34m.\u001b[0m\u001b[0mresult\u001b[0m\u001b[0;34m(\u001b[0m\u001b[0;34m)\u001b[0m\u001b[0;34m\u001b[0m\u001b[0;34m\u001b[0m\u001b[0m\n\u001b[0m\u001b[1;32m    315\u001b[0m \u001b[0;34m\u001b[0m\u001b[0m\n\u001b[1;32m    316\u001b[0m         \u001b[0;32mif\u001b[0m \u001b[0mself\u001b[0m\u001b[0;34m.\u001b[0m\u001b[0mafter\u001b[0m \u001b[0;32mis\u001b[0m \u001b[0;32mnot\u001b[0m \u001b[0;32mNone\u001b[0m\u001b[0;34m:\u001b[0m\u001b[0;34m\u001b[0m\u001b[0;34m\u001b[0m\u001b[0m\n",
            "\u001b[0;32m/usr/lib/python3.10/concurrent/futures/_base.py\u001b[0m in \u001b[0;36mresult\u001b[0;34m(self, timeout)\u001b[0m\n\u001b[1;32m    449\u001b[0m                     \u001b[0;32mraise\u001b[0m \u001b[0mCancelledError\u001b[0m\u001b[0;34m(\u001b[0m\u001b[0;34m)\u001b[0m\u001b[0;34m\u001b[0m\u001b[0;34m\u001b[0m\u001b[0m\n\u001b[1;32m    450\u001b[0m                 \u001b[0;32melif\u001b[0m \u001b[0mself\u001b[0m\u001b[0;34m.\u001b[0m\u001b[0m_state\u001b[0m \u001b[0;34m==\u001b[0m \u001b[0mFINISHED\u001b[0m\u001b[0;34m:\u001b[0m\u001b[0;34m\u001b[0m\u001b[0;34m\u001b[0m\u001b[0m\n\u001b[0;32m--> 451\u001b[0;31m                     \u001b[0;32mreturn\u001b[0m \u001b[0mself\u001b[0m\u001b[0;34m.\u001b[0m\u001b[0m__get_result\u001b[0m\u001b[0;34m(\u001b[0m\u001b[0;34m)\u001b[0m\u001b[0;34m\u001b[0m\u001b[0;34m\u001b[0m\u001b[0m\n\u001b[0m\u001b[1;32m    452\u001b[0m \u001b[0;34m\u001b[0m\u001b[0m\n\u001b[1;32m    453\u001b[0m                 \u001b[0mself\u001b[0m\u001b[0;34m.\u001b[0m\u001b[0m_condition\u001b[0m\u001b[0;34m.\u001b[0m\u001b[0mwait\u001b[0m\u001b[0;34m(\u001b[0m\u001b[0mtimeout\u001b[0m\u001b[0;34m)\u001b[0m\u001b[0;34m\u001b[0m\u001b[0;34m\u001b[0m\u001b[0m\n",
            "\u001b[0;32m/usr/lib/python3.10/concurrent/futures/_base.py\u001b[0m in \u001b[0;36m__get_result\u001b[0;34m(self)\u001b[0m\n\u001b[1;32m    401\u001b[0m         \u001b[0;32mif\u001b[0m \u001b[0mself\u001b[0m\u001b[0;34m.\u001b[0m\u001b[0m_exception\u001b[0m\u001b[0;34m:\u001b[0m\u001b[0;34m\u001b[0m\u001b[0;34m\u001b[0m\u001b[0m\n\u001b[1;32m    402\u001b[0m             \u001b[0;32mtry\u001b[0m\u001b[0;34m:\u001b[0m\u001b[0;34m\u001b[0m\u001b[0;34m\u001b[0m\u001b[0m\n\u001b[0;32m--> 403\u001b[0;31m                 \u001b[0;32mraise\u001b[0m \u001b[0mself\u001b[0m\u001b[0;34m.\u001b[0m\u001b[0m_exception\u001b[0m\u001b[0;34m\u001b[0m\u001b[0;34m\u001b[0m\u001b[0m\n\u001b[0m\u001b[1;32m    404\u001b[0m             \u001b[0;32mfinally\u001b[0m\u001b[0;34m:\u001b[0m\u001b[0;34m\u001b[0m\u001b[0;34m\u001b[0m\u001b[0m\n\u001b[1;32m    405\u001b[0m                 \u001b[0;31m# Break a reference cycle with the exception in self._exception\u001b[0m\u001b[0;34m\u001b[0m\u001b[0;34m\u001b[0m\u001b[0m\n",
            "\u001b[0;32m/usr/local/lib/python3.10/dist-packages/tenacity/__init__.py\u001b[0m in \u001b[0;36m__call__\u001b[0;34m(self, fn, *args, **kwargs)\u001b[0m\n\u001b[1;32m    380\u001b[0m             \u001b[0;32mif\u001b[0m \u001b[0misinstance\u001b[0m\u001b[0;34m(\u001b[0m\u001b[0mdo\u001b[0m\u001b[0;34m,\u001b[0m \u001b[0mDoAttempt\u001b[0m\u001b[0;34m)\u001b[0m\u001b[0;34m:\u001b[0m\u001b[0;34m\u001b[0m\u001b[0;34m\u001b[0m\u001b[0m\n\u001b[1;32m    381\u001b[0m                 \u001b[0;32mtry\u001b[0m\u001b[0;34m:\u001b[0m\u001b[0;34m\u001b[0m\u001b[0;34m\u001b[0m\u001b[0m\n\u001b[0;32m--> 382\u001b[0;31m                     \u001b[0mresult\u001b[0m \u001b[0;34m=\u001b[0m \u001b[0mfn\u001b[0m\u001b[0;34m(\u001b[0m\u001b[0;34m*\u001b[0m\u001b[0margs\u001b[0m\u001b[0;34m,\u001b[0m \u001b[0;34m**\u001b[0m\u001b[0mkwargs\u001b[0m\u001b[0;34m)\u001b[0m\u001b[0;34m\u001b[0m\u001b[0;34m\u001b[0m\u001b[0m\n\u001b[0m\u001b[1;32m    383\u001b[0m                 \u001b[0;32mexcept\u001b[0m \u001b[0mBaseException\u001b[0m\u001b[0;34m:\u001b[0m  \u001b[0;31m# noqa: B902\u001b[0m\u001b[0;34m\u001b[0m\u001b[0;34m\u001b[0m\u001b[0m\n\u001b[1;32m    384\u001b[0m                     \u001b[0mretry_state\u001b[0m\u001b[0;34m.\u001b[0m\u001b[0mset_exception\u001b[0m\u001b[0;34m(\u001b[0m\u001b[0msys\u001b[0m\u001b[0;34m.\u001b[0m\u001b[0mexc_info\u001b[0m\u001b[0;34m(\u001b[0m\u001b[0;34m)\u001b[0m\u001b[0;34m)\u001b[0m  \u001b[0;31m# type: ignore[arg-type]\u001b[0m\u001b[0;34m\u001b[0m\u001b[0;34m\u001b[0m\u001b[0m\n",
            "\u001b[0;32m/usr/local/lib/python3.10/dist-packages/langchain_google_genai/chat_models.py\u001b[0m in \u001b[0;36m_chat_with_retry\u001b[0;34m(**kwargs)\u001b[0m\n\u001b[1;32m    136\u001b[0m             ) from e\n\u001b[1;32m    137\u001b[0m         \u001b[0;32mexcept\u001b[0m \u001b[0mException\u001b[0m \u001b[0;32mas\u001b[0m \u001b[0me\u001b[0m\u001b[0;34m:\u001b[0m\u001b[0;34m\u001b[0m\u001b[0;34m\u001b[0m\u001b[0m\n\u001b[0;32m--> 138\u001b[0;31m             \u001b[0;32mraise\u001b[0m \u001b[0me\u001b[0m\u001b[0;34m\u001b[0m\u001b[0;34m\u001b[0m\u001b[0m\n\u001b[0m\u001b[1;32m    139\u001b[0m \u001b[0;34m\u001b[0m\u001b[0m\n\u001b[1;32m    140\u001b[0m     \u001b[0;32mreturn\u001b[0m \u001b[0m_chat_with_retry\u001b[0m\u001b[0;34m(\u001b[0m\u001b[0;34m**\u001b[0m\u001b[0mkwargs\u001b[0m\u001b[0;34m)\u001b[0m\u001b[0;34m\u001b[0m\u001b[0;34m\u001b[0m\u001b[0m\n",
            "\u001b[0;32m/usr/local/lib/python3.10/dist-packages/langchain_google_genai/chat_models.py\u001b[0m in \u001b[0;36m_chat_with_retry\u001b[0;34m(**kwargs)\u001b[0m\n\u001b[1;32m    129\u001b[0m     \u001b[0;32mdef\u001b[0m \u001b[0m_chat_with_retry\u001b[0m\u001b[0;34m(\u001b[0m\u001b[0;34m**\u001b[0m\u001b[0mkwargs\u001b[0m\u001b[0;34m:\u001b[0m \u001b[0mAny\u001b[0m\u001b[0;34m)\u001b[0m \u001b[0;34m->\u001b[0m \u001b[0mAny\u001b[0m\u001b[0;34m:\u001b[0m\u001b[0;34m\u001b[0m\u001b[0;34m\u001b[0m\u001b[0m\n\u001b[1;32m    130\u001b[0m         \u001b[0;32mtry\u001b[0m\u001b[0;34m:\u001b[0m\u001b[0;34m\u001b[0m\u001b[0;34m\u001b[0m\u001b[0m\n\u001b[0;32m--> 131\u001b[0;31m             \u001b[0;32mreturn\u001b[0m \u001b[0mgeneration_method\u001b[0m\u001b[0;34m(\u001b[0m\u001b[0;34m**\u001b[0m\u001b[0mkwargs\u001b[0m\u001b[0;34m)\u001b[0m\u001b[0;34m\u001b[0m\u001b[0;34m\u001b[0m\u001b[0m\n\u001b[0m\u001b[1;32m    132\u001b[0m         \u001b[0;32mexcept\u001b[0m \u001b[0mInvalidArgument\u001b[0m \u001b[0;32mas\u001b[0m \u001b[0me\u001b[0m\u001b[0;34m:\u001b[0m\u001b[0;34m\u001b[0m\u001b[0;34m\u001b[0m\u001b[0m\n\u001b[1;32m    133\u001b[0m             \u001b[0;31m# Do not retry for these errors.\u001b[0m\u001b[0;34m\u001b[0m\u001b[0;34m\u001b[0m\u001b[0m\n",
            "\u001b[0;32m/usr/local/lib/python3.10/dist-packages/google/generativeai/generative_models.py\u001b[0m in \u001b[0;36msend_message\u001b[0;34m(self, content, generation_config, safety_settings, stream, **kwargs)\u001b[0m\n\u001b[1;32m    374\u001b[0m \u001b[0;34m\u001b[0m\u001b[0m\n\u001b[1;32m    375\u001b[0m         \u001b[0;32mif\u001b[0m \u001b[0mresponse\u001b[0m\u001b[0;34m.\u001b[0m\u001b[0mprompt_feedback\u001b[0m\u001b[0;34m.\u001b[0m\u001b[0mblock_reason\u001b[0m\u001b[0;34m:\u001b[0m\u001b[0;34m\u001b[0m\u001b[0;34m\u001b[0m\u001b[0m\n\u001b[0;32m--> 376\u001b[0;31m             \u001b[0;32mraise\u001b[0m \u001b[0mgeneration_types\u001b[0m\u001b[0;34m.\u001b[0m\u001b[0mBlockedPromptException\u001b[0m\u001b[0;34m(\u001b[0m\u001b[0mresponse\u001b[0m\u001b[0;34m.\u001b[0m\u001b[0mprompt_feedback\u001b[0m\u001b[0;34m)\u001b[0m\u001b[0;34m\u001b[0m\u001b[0;34m\u001b[0m\u001b[0m\n\u001b[0m\u001b[1;32m    377\u001b[0m \u001b[0;34m\u001b[0m\u001b[0m\n\u001b[1;32m    378\u001b[0m         \u001b[0;32mif\u001b[0m \u001b[0;32mnot\u001b[0m \u001b[0mstream\u001b[0m\u001b[0;34m:\u001b[0m\u001b[0;34m\u001b[0m\u001b[0;34m\u001b[0m\u001b[0m\n",
            "\u001b[0;31mBlockedPromptException\u001b[0m: block_reason: SAFETY\nsafety_ratings {\n  category: HARM_CATEGORY_SEXUALLY_EXPLICIT\n  probability: NEGLIGIBLE\n}\nsafety_ratings {\n  category: HARM_CATEGORY_HATE_SPEECH\n  probability: NEGLIGIBLE\n}\nsafety_ratings {\n  category: HARM_CATEGORY_HARASSMENT\n  probability: MEDIUM\n}\nsafety_ratings {\n  category: HARM_CATEGORY_DANGEROUS_CONTENT\n  probability: HIGH\n}\n"
          ]
        }
      ]
    },
    {
      "cell_type": "markdown",
      "source": [
        "## Image Recognition"
      ],
      "metadata": {
        "id": "2ujlclodiEtX"
      }
    },
    {
      "cell_type": "code",
      "source": [
        "! pip install pillow -q"
      ],
      "metadata": {
        "id": "v6KFxCh7gNQV"
      },
      "execution_count": null,
      "outputs": []
    },
    {
      "cell_type": "code",
      "source": [
        "import requests\n",
        "from IPython.display import Image\n",
        "\n",
        "image_url = \"https://images.unsplash.com/photo-1463003160077-801f9fd8d095?q=80&w=600\"\n",
        "content = requests.get(image_url).content\n",
        "Image(content)"
      ],
      "metadata": {
        "colab": {
          "base_uri": "https://localhost:8080/",
          "height": 417
        },
        "id": "1NmJrO_CiJPM",
        "outputId": "a63897b7-87b5-45a2-c735-6cdf3fa47466"
      },
      "execution_count": null,
      "outputs": [
        {
          "output_type": "execute_result",
          "data": {
            "image/jpeg": "[encoded data removed]",
            "text/plain": [
              "<IPython.core.display.Image object>"
            ]
          },
          "metadata": {},
          "execution_count": 35
        }
      ]
    },
    {
      "cell_type": "code",
      "source": [
        "from langchain_core.messages import HumanMessage\n",
        "from langchain_google_genai import ChatGoogleGenerativeAI\n",
        "\n",
        "llm = ChatGoogleGenerativeAI(model=\"gemini-pro-vision\")\n",
        "# example\n",
        "message = HumanMessage(\n",
        "    content=[\n",
        "        {\n",
        "            \"type\": \"text\",\n",
        "            \"text\": \"What's in this image? What mood does the image represents?\",\n",
        "        },  # You can optionally provide text parts\n",
        "        {\"type\": \"image_url\", \"image_url\": image_url},\n",
        "    ]\n",
        ")\n",
        "\n",
        "output_message = llm.invoke([message])\n",
        "content_text = to_markdown(output_message.content)\n",
        "content_text"
      ],
      "metadata": {
        "colab": {
          "base_uri": "https://localhost:8080/",
          "height": 80
        },
        "id": "bG3NSqwUne7f",
        "outputId": "2ed2f08d-b8ed-40a9-99da-3fe56f4445a1"
      },
      "execution_count": null,
      "outputs": [
        {
          "output_type": "execute_result",
          "data": {
            "text/plain": [
              "<IPython.core.display.Markdown object>"
            ],
            "text/markdown": ">  The image is a silhouette of a bird on a branch against a dark sky. The mood of the image is dark and mysterious. The bird is alone and isolated, and the dark sky suggests that there is a storm coming. The image is also very still, which adds to the sense of suspense."
          },
          "metadata": {},
          "execution_count": 37
        }
      ]
    },
    {
      "cell_type": "markdown",
      "source": [
        "## Configuring Hyperparameters with GenerationConfig\n",
        "\n",
        "The `generation_config` argument allows you to modify the generation parameters. Every prompt you send to the model includes parameter values that control how the model generates responses.\n",
        "\n",
        "**Note:** Need to figure out a way to do it with LangChain too"
      ],
      "metadata": {
        "id": "mD8p41KnpVuE"
      }
    },
    {
      "cell_type": "code",
      "source": [
        "model = genai.GenerativeModel('gemini-pro')\n",
        "response = model.generate_content(\"Tell me in 2 lines concisely, why Newton could be better than Einstein?\",\n",
        "                                  generation_config=genai.types.GenerationConfig(\n",
        "                                  candidate_count=1,\n",
        "                                  stop_sequences=['.'],\n",
        "                                  max_output_tokens=20,\n",
        "                                  top_p = 0.7,\n",
        "                                  top_k = 4,\n",
        "                                  temperature=0.7)\n",
        "                                  )\n",
        "to_markdown(response.text)"
      ],
      "metadata": {
        "colab": {
          "base_uri": "https://localhost:8080/",
          "height": 62
        },
        "id": "QQLn9bYFpWH1",
        "outputId": "fa256758-9c5f-453f-c802-f37775ac311b"
      },
      "execution_count": null,
      "outputs": [
        {
          "output_type": "execute_result",
          "data": {
            "text/plain": [
              "<IPython.core.display.Markdown object>"
            ],
            "text/markdown": "> Newton's laws are simpler and more intuitive, while Einstein's theories are more complex and require"
          },
          "metadata": {},
          "execution_count": 38
        }
      ]
    },
    {
      "cell_type": "markdown",
      "source": [
        "- **candidate_count=1:** Tells the Gemini to generate only one response per Prompt/Query. As discussed before, right now Google limits the number of candidates to 1\n",
        "- **stop_sequences=[‘.’]:** Tells Gemini to stop generating text when it encounters a period (.)\n",
        "- **max_output_tokens=20:** Limits the generated text to a specified maximum number which here is set to 20\n",
        "- **top_p = 0.7:** Influences how likely the next word will be chosen based on its probability. 0.7 favors more probable words, while higher values favor less likely but potentially more creative choices\n",
        "- **top_k = 4:** Considers only the top 4 most likely words when selecting the next word, promoting diversity in the output\n",
        "- **temperature=0.7:** Controls the randomness of the generated text. A higher temperature (like 0.7) increases randomness and creativity, while lower values favor more predictable and conservative outputs"
      ],
      "metadata": {
        "id": "P-tybjpPqDUa"
      }
    },
    {
      "cell_type": "markdown",
      "source": [
        "### What's Next?\n",
        "\n",
        "-   Prompt design is the process of creating prompts that elicit the desired response from language models. Writing well structured prompts is an essential part of ensuring accurate, high quality responses from a language model. Learn about best practices for [prompt writing](https://ai.google.dev/docs/prompt_best_practices).\n",
        "-   Gemini offers several model variations to meet the needs of different use cases, such as input types and complexity, implementations for chat or other dialog language tasks, and size constraints. Learn about the available [Gemini models](https://ai.google.dev/models/gemini).\n",
        "-   Gemini offers options for requesting [rate limit increases](https://ai.google.dev/docs/increase_quota). The rate limit for Gemini-Pro models is 60 requests per minute (RPM)."
      ],
      "metadata": {
        "id": "0ApymQbIpNP_"
      }
    },
    {
      "cell_type": "code",
      "source": [],
      "metadata": {
        "id": "dnPDpt_RpNXF"
      },
      "execution_count": null,
      "outputs": []
    }
  ]
}