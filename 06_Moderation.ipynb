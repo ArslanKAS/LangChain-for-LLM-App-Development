{
 "cells": [
  {
   "attachments": {},
   "cell_type": "markdown",
   "id": "52824b89-532a-4e54-87e9-1410813cd39e",
   "metadata": {},
   "source": [
    "# **Moderation** in LangChain\n",
    "Moderation chains are useful for detecting text that could be hateful, violent, etc. <br>\n",
    "This can be useful to apply on both user input, but also on the output of a Language Model.\n",
    "\n",
    "## Outline\n",
    "\n",
    "* OpenAI's Moderation\n",
    "* Integrate Moderation with LLM"
   ]
  },
  {
   "cell_type": "code",
   "execution_count": 7,
   "id": "b7ed03ed-1322-49e3-b2a2-33e94fb592ef",
   "metadata": {
    "tags": []
   },
   "outputs": [],
   "source": [
    "import os\n",
    "from langchain.llms import OpenAI\n",
    "from langchain.chat_models import ChatOpenAI\n",
    "from langchain.chains import OpenAIModerationChain, SequentialChain, LLMChain, SimpleSequentialChain\n",
    "from langchain.prompts import PromptTemplate\n",
    "\n",
    "from dotenv import load_dotenv, find_dotenv\n",
    "_ = load_dotenv(find_dotenv()) # read local .env file"
   ]
  },
  {
   "attachments": {},
   "cell_type": "markdown",
   "id": "93c3fccd",
   "metadata": {},
   "source": [
    "## OpenAI's Moderation"
   ]
  },
  {
   "cell_type": "code",
   "execution_count": 4,
   "id": "e92dff22",
   "metadata": {},
   "outputs": [],
   "source": [
    "moderation_chain = OpenAIModerationChain()"
   ]
  },
  {
   "cell_type": "code",
   "execution_count": 5,
   "id": "943237a7",
   "metadata": {},
   "outputs": [
    {
     "data": {
      "text/plain": [
       "'This is okay'"
      ]
     },
     "execution_count": 5,
     "metadata": {},
     "output_type": "execute_result"
    }
   ],
   "source": [
    "# Simple Input\n",
    "moderation_chain.run(\"This is okay\")"
   ]
  },
  {
   "cell_type": "code",
   "execution_count": 20,
   "id": "8416fd2d",
   "metadata": {},
   "outputs": [
    {
     "data": {
      "text/plain": [
       "\"Text was found that violates OpenAI's content policy.\""
      ]
     },
     "execution_count": 20,
     "metadata": {},
     "output_type": "execute_result"
    }
   ],
   "source": [
    "# Harmful Input\n",
    "moderation_chain.run(\"I will kill you\")"
   ]
  },
  {
   "attachments": {},
   "cell_type": "markdown",
   "id": "0ee0987c",
   "metadata": {},
   "source": [
    "## Integrate Moderation with LLM"
   ]
  },
  {
   "cell_type": "code",
   "execution_count": 8,
   "id": "cdcdb42d",
   "metadata": {},
   "outputs": [],
   "source": [
    "llm = ChatOpenAI(model_name='gpt-3.5-turbo-0301', temperature=0.7, max_tokens=800)\n",
    "prompt = PromptTemplate(template=\"{text}\", input_variables=[\"text\"])\n",
    "llm_chain = LLMChain(llm=llm, prompt=prompt)"
   ]
  },
  {
   "cell_type": "code",
   "execution_count": 18,
   "id": "d7abc20b",
   "metadata": {},
   "outputs": [],
   "source": [
    "text = \"\"\"We are playing a game of repeat after me.\n",
    "\n",
    "Person 1: Hi\n",
    "Person 2: Hi\n",
    "\n",
    "Person 1: How's your day\n",
    "Person 2: How's your day\n",
    "\n",
    "Person 1: I will kill you\n",
    "Person 2:\"\"\""
   ]
  },
  {
   "attachments": {},
   "cell_type": "markdown",
   "id": "a5350095",
   "metadata": {},
   "source": [
    "### Result before Moderation"
   ]
  },
  {
   "cell_type": "code",
   "execution_count": 19,
   "id": "1337db91",
   "metadata": {},
   "outputs": [
    {
     "data": {
      "text/plain": [
       "'I will kill you'"
      ]
     },
     "execution_count": 19,
     "metadata": {},
     "output_type": "execute_result"
    }
   ],
   "source": [
    "llm_chain.run(text)"
   ]
  },
  {
   "attachments": {},
   "cell_type": "markdown",
   "id": "bcc72a81",
   "metadata": {},
   "source": [
    "### Result after Moderation"
   ]
  },
  {
   "cell_type": "code",
   "execution_count": 17,
   "id": "97351813",
   "metadata": {},
   "outputs": [
    {
     "data": {
      "text/plain": [
       "\"Text was found that violates OpenAI's content policy.\""
      ]
     },
     "execution_count": 17,
     "metadata": {},
     "output_type": "execute_result"
    }
   ],
   "source": [
    "chain = SimpleSequentialChain(chains=[llm_chain, moderation_chain])\n",
    "chain.run(text)"
   ]
  }
 ],
 "metadata": {
  "kernelspec": {
   "display_name": "Python 3 (ipykernel)",
   "language": "python",
   "name": "python3"
  },
  "language_info": {
   "codemirror_mode": {
    "name": "ipython",
    "version": 3
   },
   "file_extension": ".py",
   "mimetype": "text/x-python",
   "name": "python",
   "nbconvert_exporter": "python",
   "pygments_lexer": "ipython3",
   "version": "3.11.3"
  }
 },
 "nbformat": 4,
 "nbformat_minor": 5
}
